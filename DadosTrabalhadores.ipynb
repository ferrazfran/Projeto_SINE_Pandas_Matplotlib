{
 "cells": [
  {
   "cell_type": "raw",
   "metadata": {},
   "source": [
    "O objetivo do projeto é fazer o tratamento, análise exploratória e visualização dos dados utilizando as bibliotecas Pandas e Matplotlib.\n",
    "Os dados foram divididos em dois dataframes: trabalhadores que não informaram sua deficiência e trabalhadores que informaram sua deficiência"
   ]
  },
  {
   "cell_type": "code",
   "execution_count": 21,
   "metadata": {},
   "outputs": [],
   "source": [
    "#importando a biblioteca Pandas\n",
    "import pandas as pd"
   ]
  },
  {
   "cell_type": "code",
   "execution_count": 40,
   "metadata": {},
   "outputs": [],
   "source": [
    "import matplotlib.pyplot as plt"
   ]
  },
  {
   "cell_type": "code",
   "execution_count": 96,
   "metadata": {},
   "outputs": [
    {
     "data": {
      "text/html": [
       "<div>\n",
       "<style scoped>\n",
       "    .dataframe tbody tr th:only-of-type {\n",
       "        vertical-align: middle;\n",
       "    }\n",
       "\n",
       "    .dataframe tbody tr th {\n",
       "        vertical-align: top;\n",
       "    }\n",
       "\n",
       "    .dataframe thead th {\n",
       "        text-align: right;\n",
       "    }\n",
       "</style>\n",
       "<table border=\"1\" class=\"dataframe\">\n",
       "  <thead>\n",
       "    <tr style=\"text-align: right;\">\n",
       "      <th></th>\n",
       "      <th>NACIONALIDADE</th>\n",
       "      <th>DEFICIENCIAS</th>\n",
       "      <th>BAIRRO</th>\n",
       "      <th>CEP</th>\n",
       "      <th>CODIGO_MUNICIPIO_IBGE</th>\n",
       "      <th>NOME_MUNICIPIO</th>\n",
       "      <th>UF</th>\n",
       "      <th>ESCOLARIDADE</th>\n",
       "      <th>ESTUDANTE</th>\n",
       "      <th>HABILITACAO</th>\n",
       "      <th>VEICULOS</th>\n",
       "      <th>DISP_VIAJAR</th>\n",
       "      <th>DISP_DORMIR_EMP</th>\n",
       "      <th>DISP_AUSENTAR_DOMIC</th>\n",
       "    </tr>\n",
       "  </thead>\n",
       "  <tbody>\n",
       "    <tr>\n",
       "      <th>0</th>\n",
       "      <td>BRASILEIRA</td>\n",
       "      <td>NaN</td>\n",
       "      <td>CENTRO</td>\n",
       "      <td>35588000.0</td>\n",
       "      <td>310420</td>\n",
       "      <td>ARCOS</td>\n",
       "      <td>MG</td>\n",
       "      <td>Médio Incompleto</td>\n",
       "      <td>N</td>\n",
       "      <td>Nenhum</td>\n",
       "      <td>N</td>\n",
       "      <td>N</td>\n",
       "      <td>N</td>\n",
       "      <td>N</td>\n",
       "    </tr>\n",
       "    <tr>\n",
       "      <th>1</th>\n",
       "      <td>BRASILEIRA</td>\n",
       "      <td>NaN</td>\n",
       "      <td>NaN</td>\n",
       "      <td>30514005.0</td>\n",
       "      <td>310620</td>\n",
       "      <td>BELO HORIZONTE</td>\n",
       "      <td>MG</td>\n",
       "      <td>Médio Completo</td>\n",
       "      <td>N</td>\n",
       "      <td>Nenhum</td>\n",
       "      <td>N</td>\n",
       "      <td>S</td>\n",
       "      <td>S</td>\n",
       "      <td>S</td>\n",
       "    </tr>\n",
       "    <tr>\n",
       "      <th>2</th>\n",
       "      <td>BRASILEIRA</td>\n",
       "      <td>NaN</td>\n",
       "      <td>JARDIM EUROPA</td>\n",
       "      <td>38414700.0</td>\n",
       "      <td>317020</td>\n",
       "      <td>UBERLANDIA</td>\n",
       "      <td>MG</td>\n",
       "      <td>Médio Completo</td>\n",
       "      <td>N</td>\n",
       "      <td>Nenhum</td>\n",
       "      <td>N</td>\n",
       "      <td>S</td>\n",
       "      <td>S</td>\n",
       "      <td>S</td>\n",
       "    </tr>\n",
       "    <tr>\n",
       "      <th>3</th>\n",
       "      <td>BRASILEIRA</td>\n",
       "      <td>NaN</td>\n",
       "      <td>SAO LUCAS</td>\n",
       "      <td>35528034.0</td>\n",
       "      <td>314520</td>\n",
       "      <td>NOVA SERRANA</td>\n",
       "      <td>MG</td>\n",
       "      <td>Médio Incompleto</td>\n",
       "      <td>N</td>\n",
       "      <td>Nenhum</td>\n",
       "      <td>N</td>\n",
       "      <td>N</td>\n",
       "      <td>N</td>\n",
       "      <td>N</td>\n",
       "    </tr>\n",
       "    <tr>\n",
       "      <th>4</th>\n",
       "      <td>IGNORADO</td>\n",
       "      <td>NaN</td>\n",
       "      <td>NaN</td>\n",
       "      <td>38800000.0</td>\n",
       "      <td>316210</td>\n",
       "      <td>SAO GOTARDO</td>\n",
       "      <td>MG</td>\n",
       "      <td>Fundamental Completo</td>\n",
       "      <td>N</td>\n",
       "      <td>Nenhum</td>\n",
       "      <td>N</td>\n",
       "      <td>N</td>\n",
       "      <td>N</td>\n",
       "      <td>N</td>\n",
       "    </tr>\n",
       "  </tbody>\n",
       "</table>\n",
       "</div>"
      ],
      "text/plain": [
       "  NACIONALIDADE DEFICIENCIAS         BAIRRO         CEP  \\\n",
       "0    BRASILEIRA          NaN         CENTRO  35588000.0   \n",
       "1    BRASILEIRA          NaN            NaN  30514005.0   \n",
       "2    BRASILEIRA          NaN  JARDIM EUROPA  38414700.0   \n",
       "3    BRASILEIRA          NaN      SAO LUCAS  35528034.0   \n",
       "4      IGNORADO          NaN            NaN  38800000.0   \n",
       "\n",
       "   CODIGO_MUNICIPIO_IBGE  NOME_MUNICIPIO  UF          ESCOLARIDADE ESTUDANTE  \\\n",
       "0                 310420           ARCOS  MG      Médio Incompleto         N   \n",
       "1                 310620  BELO HORIZONTE  MG        Médio Completo         N   \n",
       "2                 317020      UBERLANDIA  MG        Médio Completo         N   \n",
       "3                 314520    NOVA SERRANA  MG      Médio Incompleto         N   \n",
       "4                 316210     SAO GOTARDO  MG  Fundamental Completo         N   \n",
       "\n",
       "  HABILITACAO VEICULOS DISP_VIAJAR DISP_DORMIR_EMP DISP_AUSENTAR_DOMIC  \n",
       "0      Nenhum        N           N               N                   N  \n",
       "1      Nenhum        N           S               S                   S  \n",
       "2      Nenhum        N           S               S                   S  \n",
       "3      Nenhum        N           N               N                   N  \n",
       "4      Nenhum        N           N               N                   N  "
      ]
     },
     "execution_count": 96,
     "metadata": {},
     "output_type": "execute_result"
    }
   ],
   "source": [
    "#Fonte de dados: Sistema Nacional de Emprego - Sine Aberto, PORTAL BRASILEIRO DE DADOS ABERTOS, 2021. Disponível em: <https://dados.gov.br/dataset/sine-aberto>Acesso em: 29 de set. de 2021.\n",
    "#Dados referentes ao dia 19/04/2021.\n",
    "df = pd.read_csv('D_ETL_IMO_EXTRACAO_SINE_ABERTO_TRABALHADORES_MG.csv', sep=';', encoding='latin-1')\n",
    "df.head()"
   ]
  },
  {
   "cell_type": "code",
   "execution_count": 23,
   "metadata": {},
   "outputs": [
    {
     "data": {
      "text/html": [
       "<div>\n",
       "<style scoped>\n",
       "    .dataframe tbody tr th:only-of-type {\n",
       "        vertical-align: middle;\n",
       "    }\n",
       "\n",
       "    .dataframe tbody tr th {\n",
       "        vertical-align: top;\n",
       "    }\n",
       "\n",
       "    .dataframe thead th {\n",
       "        text-align: right;\n",
       "    }\n",
       "</style>\n",
       "<table border=\"1\" class=\"dataframe\">\n",
       "  <thead>\n",
       "    <tr style=\"text-align: right;\">\n",
       "      <th></th>\n",
       "      <th>NACIONALIDADE</th>\n",
       "      <th>DEFICIENCIAS</th>\n",
       "      <th>BAIRRO</th>\n",
       "      <th>CEP</th>\n",
       "      <th>CODIGO_MUNICIPIO_IBGE</th>\n",
       "      <th>NOME_MUNICIPIO</th>\n",
       "      <th>UF</th>\n",
       "      <th>ESCOLARIDADE</th>\n",
       "      <th>ESTUDANTE</th>\n",
       "      <th>HABILITACAO</th>\n",
       "      <th>VEICULOS</th>\n",
       "      <th>DISP_VIAJAR</th>\n",
       "      <th>DISP_DORMIR_EMP</th>\n",
       "      <th>DISP_AUSENTAR_DOMIC</th>\n",
       "    </tr>\n",
       "  </thead>\n",
       "  <tbody>\n",
       "    <tr>\n",
       "      <th>1048570</th>\n",
       "      <td>BRASILEIRA</td>\n",
       "      <td>NaN</td>\n",
       "      <td>PRAIA DOS BANDEIRANTES</td>\n",
       "      <td>34525000.0</td>\n",
       "      <td>315670</td>\n",
       "      <td>SABARA</td>\n",
       "      <td>MG</td>\n",
       "      <td>Fundamental Incompleto</td>\n",
       "      <td>N</td>\n",
       "      <td>Nenhum</td>\n",
       "      <td>N</td>\n",
       "      <td>N</td>\n",
       "      <td>N</td>\n",
       "      <td>N</td>\n",
       "    </tr>\n",
       "    <tr>\n",
       "      <th>1048571</th>\n",
       "      <td>BRASILEIRA</td>\n",
       "      <td>NaN</td>\n",
       "      <td>FABRICA</td>\n",
       "      <td>36700328.0</td>\n",
       "      <td>313840</td>\n",
       "      <td>LEOPOLDINA</td>\n",
       "      <td>MG</td>\n",
       "      <td>Médio Completo</td>\n",
       "      <td>N</td>\n",
       "      <td>AB</td>\n",
       "      <td>N</td>\n",
       "      <td>N</td>\n",
       "      <td>N</td>\n",
       "      <td>N</td>\n",
       "    </tr>\n",
       "    <tr>\n",
       "      <th>1048572</th>\n",
       "      <td>BRASILEIRA</td>\n",
       "      <td>NaN</td>\n",
       "      <td>NaN</td>\n",
       "      <td>38701153.0</td>\n",
       "      <td>314800</td>\n",
       "      <td>PATOS DE MINAS</td>\n",
       "      <td>MG</td>\n",
       "      <td>Não Identificado</td>\n",
       "      <td>N</td>\n",
       "      <td>AB</td>\n",
       "      <td>N</td>\n",
       "      <td>N</td>\n",
       "      <td>N</td>\n",
       "      <td>N</td>\n",
       "    </tr>\n",
       "    <tr>\n",
       "      <th>1048573</th>\n",
       "      <td>BRASILEIRA</td>\n",
       "      <td>NaN</td>\n",
       "      <td>SANTA ZITA</td>\n",
       "      <td>35300275.0</td>\n",
       "      <td>311340</td>\n",
       "      <td>CARATINGA</td>\n",
       "      <td>MG</td>\n",
       "      <td>Médio Incompleto</td>\n",
       "      <td>N</td>\n",
       "      <td>Nenhum</td>\n",
       "      <td>N</td>\n",
       "      <td>S</td>\n",
       "      <td>S</td>\n",
       "      <td>S</td>\n",
       "    </tr>\n",
       "    <tr>\n",
       "      <th>1048574</th>\n",
       "      <td>BRASILEIRA</td>\n",
       "      <td>NaN</td>\n",
       "      <td>VILA NOSSA SENHORA APARECID</td>\n",
       "      <td>31525041.0</td>\n",
       "      <td>310620</td>\n",
       "      <td>BELO HORIZONTE</td>\n",
       "      <td>MG</td>\n",
       "      <td>Fundamental Incompleto</td>\n",
       "      <td>N</td>\n",
       "      <td>Nenhum</td>\n",
       "      <td>N</td>\n",
       "      <td>N</td>\n",
       "      <td>N</td>\n",
       "      <td>N</td>\n",
       "    </tr>\n",
       "  </tbody>\n",
       "</table>\n",
       "</div>"
      ],
      "text/plain": [
       "        NACIONALIDADE DEFICIENCIAS                       BAIRRO         CEP  \\\n",
       "1048570    BRASILEIRA          NaN       PRAIA DOS BANDEIRANTES  34525000.0   \n",
       "1048571    BRASILEIRA          NaN                      FABRICA  36700328.0   \n",
       "1048572    BRASILEIRA          NaN                          NaN  38701153.0   \n",
       "1048573    BRASILEIRA          NaN                   SANTA ZITA  35300275.0   \n",
       "1048574    BRASILEIRA          NaN  VILA NOSSA SENHORA APARECID  31525041.0   \n",
       "\n",
       "         CODIGO_MUNICIPIO_IBGE  NOME_MUNICIPIO  UF            ESCOLARIDADE  \\\n",
       "1048570                 315670          SABARA  MG  Fundamental Incompleto   \n",
       "1048571                 313840      LEOPOLDINA  MG          Médio Completo   \n",
       "1048572                 314800  PATOS DE MINAS  MG        Não Identificado   \n",
       "1048573                 311340       CARATINGA  MG        Médio Incompleto   \n",
       "1048574                 310620  BELO HORIZONTE  MG  Fundamental Incompleto   \n",
       "\n",
       "        ESTUDANTE HABILITACAO VEICULOS DISP_VIAJAR DISP_DORMIR_EMP  \\\n",
       "1048570         N      Nenhum        N           N               N   \n",
       "1048571         N          AB        N           N               N   \n",
       "1048572         N          AB        N           N               N   \n",
       "1048573         N      Nenhum        N           S               S   \n",
       "1048574         N      Nenhum        N           N               N   \n",
       "\n",
       "        DISP_AUSENTAR_DOMIC  \n",
       "1048570                   N  \n",
       "1048571                   N  \n",
       "1048572                   N  \n",
       "1048573                   S  \n",
       "1048574                   N  "
      ]
     },
     "execution_count": 23,
     "metadata": {},
     "output_type": "execute_result"
    }
   ],
   "source": [
    "df.tail()"
   ]
  },
  {
   "cell_type": "code",
   "execution_count": 5,
   "metadata": {},
   "outputs": [
    {
     "data": {
      "text/plain": [
       "NACIONALIDADE            1048575\n",
       "DEFICIENCIAS                5739\n",
       "BAIRRO                    525784\n",
       "CEP                      1048456\n",
       "CODIGO_MUNICIPIO_IBGE    1048575\n",
       "NOME_MUNICIPIO           1048575\n",
       "UF                       1048575\n",
       "ESCOLARIDADE             1048575\n",
       "ESTUDANTE                1048575\n",
       "HABILITACAO              1048575\n",
       "VEICULOS                 1048575\n",
       "DISP_VIAJAR              1048575\n",
       "DISP_DORMIR_EMP          1048575\n",
       "DISP_AUSENTAR_DOMIC      1048575\n",
       "dtype: int64"
      ]
     },
     "execution_count": 5,
     "metadata": {},
     "output_type": "execute_result"
    }
   ],
   "source": [
    "#Quantidade de dados em cada coluna\n",
    "df.count()"
   ]
  },
  {
   "cell_type": "code",
   "execution_count": 6,
   "metadata": {
    "scrolled": true
   },
   "outputs": [
    {
     "data": {
      "text/plain": [
       "NACIONALIDADE                  0\n",
       "DEFICIENCIAS             1042836\n",
       "BAIRRO                    522791\n",
       "CEP                          119\n",
       "CODIGO_MUNICIPIO_IBGE          0\n",
       "NOME_MUNICIPIO                 0\n",
       "UF                             0\n",
       "ESCOLARIDADE                   0\n",
       "ESTUDANTE                      0\n",
       "HABILITACAO                    0\n",
       "VEICULOS                       0\n",
       "DISP_VIAJAR                    0\n",
       "DISP_DORMIR_EMP                0\n",
       "DISP_AUSENTAR_DOMIC            0\n",
       "dtype: int64"
      ]
     },
     "execution_count": 6,
     "metadata": {},
     "output_type": "execute_result"
    }
   ],
   "source": [
    "#Quantidade de dados não informados em cada coluna\n",
    "df.isna().sum()"
   ]
  },
  {
   "cell_type": "code",
   "execution_count": 97,
   "metadata": {},
   "outputs": [],
   "source": [
    "#Apaguei as colunas que não serão utilizadas na análise\n",
    "df.drop(['BAIRRO', 'CEP', 'CODIGO_MUNICIPIO_IBGE'], axis=1, inplace=True)"
   ]
  },
  {
   "cell_type": "code",
   "execution_count": 100,
   "metadata": {
    "scrolled": true
   },
   "outputs": [
    {
     "data": {
      "text/plain": [
       "NACIONALIDADE          object\n",
       "DEFICIENCIAS           object\n",
       "NOME_MUNICIPIO         object\n",
       "UF                     object\n",
       "ESCOLARIDADE           object\n",
       "ESTUDANTE              object\n",
       "HABILITACAO            object\n",
       "VEICULOS               object\n",
       "DISP_VIAJAR            object\n",
       "DISP_DORMIR_EMP        object\n",
       "DISP_AUSENTAR_DOMIC    object\n",
       "dtype: object"
      ]
     },
     "execution_count": 100,
     "metadata": {},
     "output_type": "execute_result"
    }
   ],
   "source": [
    "df.dtypes"
   ]
  },
  {
   "cell_type": "code",
   "execution_count": 101,
   "metadata": {},
   "outputs": [
    {
     "data": {
      "text/plain": [
       "NOME_MUNICIPIO\n",
       "BELO HORIZONTE      127839\n",
       "UBERLANDIA           59794\n",
       "CONTAGEM             41973\n",
       "JUIZ DE FORA         26196\n",
       "BETIM                25699\n",
       "                     ...  \n",
       "CEDRO DO ABAETE         11\n",
       "NOVA BELEM              10\n",
       "SERRA DA SAUDADE        10\n",
       "GRUPIARA                10\n",
       "NACIP RAYDAN             9\n",
       "Length: 853, dtype: int64"
      ]
     },
     "execution_count": 101,
     "metadata": {},
     "output_type": "execute_result"
    }
   ],
   "source": [
    "#A maioria dos trabalhadores que informaram seus dados estão na cidade de Belo Horizonte\n",
    "df.groupby(['NOME_MUNICIPIO']).size().sort_values(ascending=False)"
   ]
  },
  {
   "cell_type": "code",
   "execution_count": 98,
   "metadata": {
    "scrolled": true
   },
   "outputs": [
    {
     "data": {
      "text/html": [
       "<div>\n",
       "<style scoped>\n",
       "    .dataframe tbody tr th:only-of-type {\n",
       "        vertical-align: middle;\n",
       "    }\n",
       "\n",
       "    .dataframe tbody tr th {\n",
       "        vertical-align: top;\n",
       "    }\n",
       "\n",
       "    .dataframe thead th {\n",
       "        text-align: right;\n",
       "    }\n",
       "</style>\n",
       "<table border=\"1\" class=\"dataframe\">\n",
       "  <thead>\n",
       "    <tr style=\"text-align: right;\">\n",
       "      <th></th>\n",
       "      <th>NACIONALIDADE</th>\n",
       "      <th>DEFICIENCIAS</th>\n",
       "      <th>NOME_MUNICIPIO</th>\n",
       "      <th>UF</th>\n",
       "      <th>ESCOLARIDADE</th>\n",
       "      <th>ESTUDANTE</th>\n",
       "      <th>HABILITACAO</th>\n",
       "      <th>VEICULOS</th>\n",
       "      <th>DISP_VIAJAR</th>\n",
       "      <th>DISP_DORMIR_EMP</th>\n",
       "      <th>DISP_AUSENTAR_DOMIC</th>\n",
       "    </tr>\n",
       "  </thead>\n",
       "  <tbody>\n",
       "    <tr>\n",
       "      <th>0</th>\n",
       "      <td>BRASILEIRA</td>\n",
       "      <td>NaN</td>\n",
       "      <td>ARCOS</td>\n",
       "      <td>MG</td>\n",
       "      <td>Médio Incompleto</td>\n",
       "      <td>N</td>\n",
       "      <td>Nenhum</td>\n",
       "      <td>N</td>\n",
       "      <td>N</td>\n",
       "      <td>N</td>\n",
       "      <td>N</td>\n",
       "    </tr>\n",
       "    <tr>\n",
       "      <th>1</th>\n",
       "      <td>BRASILEIRA</td>\n",
       "      <td>NaN</td>\n",
       "      <td>BELO HORIZONTE</td>\n",
       "      <td>MG</td>\n",
       "      <td>Médio Completo</td>\n",
       "      <td>N</td>\n",
       "      <td>Nenhum</td>\n",
       "      <td>N</td>\n",
       "      <td>S</td>\n",
       "      <td>S</td>\n",
       "      <td>S</td>\n",
       "    </tr>\n",
       "    <tr>\n",
       "      <th>2</th>\n",
       "      <td>BRASILEIRA</td>\n",
       "      <td>NaN</td>\n",
       "      <td>UBERLANDIA</td>\n",
       "      <td>MG</td>\n",
       "      <td>Médio Completo</td>\n",
       "      <td>N</td>\n",
       "      <td>Nenhum</td>\n",
       "      <td>N</td>\n",
       "      <td>S</td>\n",
       "      <td>S</td>\n",
       "      <td>S</td>\n",
       "    </tr>\n",
       "    <tr>\n",
       "      <th>3</th>\n",
       "      <td>BRASILEIRA</td>\n",
       "      <td>NaN</td>\n",
       "      <td>NOVA SERRANA</td>\n",
       "      <td>MG</td>\n",
       "      <td>Médio Incompleto</td>\n",
       "      <td>N</td>\n",
       "      <td>Nenhum</td>\n",
       "      <td>N</td>\n",
       "      <td>N</td>\n",
       "      <td>N</td>\n",
       "      <td>N</td>\n",
       "    </tr>\n",
       "    <tr>\n",
       "      <th>4</th>\n",
       "      <td>IGNORADO</td>\n",
       "      <td>NaN</td>\n",
       "      <td>SAO GOTARDO</td>\n",
       "      <td>MG</td>\n",
       "      <td>Fundamental Completo</td>\n",
       "      <td>N</td>\n",
       "      <td>Nenhum</td>\n",
       "      <td>N</td>\n",
       "      <td>N</td>\n",
       "      <td>N</td>\n",
       "      <td>N</td>\n",
       "    </tr>\n",
       "    <tr>\n",
       "      <th>...</th>\n",
       "      <td>...</td>\n",
       "      <td>...</td>\n",
       "      <td>...</td>\n",
       "      <td>...</td>\n",
       "      <td>...</td>\n",
       "      <td>...</td>\n",
       "      <td>...</td>\n",
       "      <td>...</td>\n",
       "      <td>...</td>\n",
       "      <td>...</td>\n",
       "      <td>...</td>\n",
       "    </tr>\n",
       "    <tr>\n",
       "      <th>1048570</th>\n",
       "      <td>BRASILEIRA</td>\n",
       "      <td>NaN</td>\n",
       "      <td>SABARA</td>\n",
       "      <td>MG</td>\n",
       "      <td>Fundamental Incompleto</td>\n",
       "      <td>N</td>\n",
       "      <td>Nenhum</td>\n",
       "      <td>N</td>\n",
       "      <td>N</td>\n",
       "      <td>N</td>\n",
       "      <td>N</td>\n",
       "    </tr>\n",
       "    <tr>\n",
       "      <th>1048571</th>\n",
       "      <td>BRASILEIRA</td>\n",
       "      <td>NaN</td>\n",
       "      <td>LEOPOLDINA</td>\n",
       "      <td>MG</td>\n",
       "      <td>Médio Completo</td>\n",
       "      <td>N</td>\n",
       "      <td>AB</td>\n",
       "      <td>N</td>\n",
       "      <td>N</td>\n",
       "      <td>N</td>\n",
       "      <td>N</td>\n",
       "    </tr>\n",
       "    <tr>\n",
       "      <th>1048572</th>\n",
       "      <td>BRASILEIRA</td>\n",
       "      <td>NaN</td>\n",
       "      <td>PATOS DE MINAS</td>\n",
       "      <td>MG</td>\n",
       "      <td>Não Identificado</td>\n",
       "      <td>N</td>\n",
       "      <td>AB</td>\n",
       "      <td>N</td>\n",
       "      <td>N</td>\n",
       "      <td>N</td>\n",
       "      <td>N</td>\n",
       "    </tr>\n",
       "    <tr>\n",
       "      <th>1048573</th>\n",
       "      <td>BRASILEIRA</td>\n",
       "      <td>NaN</td>\n",
       "      <td>CARATINGA</td>\n",
       "      <td>MG</td>\n",
       "      <td>Médio Incompleto</td>\n",
       "      <td>N</td>\n",
       "      <td>Nenhum</td>\n",
       "      <td>N</td>\n",
       "      <td>S</td>\n",
       "      <td>S</td>\n",
       "      <td>S</td>\n",
       "    </tr>\n",
       "    <tr>\n",
       "      <th>1048574</th>\n",
       "      <td>BRASILEIRA</td>\n",
       "      <td>NaN</td>\n",
       "      <td>BELO HORIZONTE</td>\n",
       "      <td>MG</td>\n",
       "      <td>Fundamental Incompleto</td>\n",
       "      <td>N</td>\n",
       "      <td>Nenhum</td>\n",
       "      <td>N</td>\n",
       "      <td>N</td>\n",
       "      <td>N</td>\n",
       "      <td>N</td>\n",
       "    </tr>\n",
       "  </tbody>\n",
       "</table>\n",
       "<p>1042836 rows × 11 columns</p>\n",
       "</div>"
      ],
      "text/plain": [
       "        NACIONALIDADE DEFICIENCIAS  NOME_MUNICIPIO  UF  \\\n",
       "0          BRASILEIRA          NaN           ARCOS  MG   \n",
       "1          BRASILEIRA          NaN  BELO HORIZONTE  MG   \n",
       "2          BRASILEIRA          NaN      UBERLANDIA  MG   \n",
       "3          BRASILEIRA          NaN    NOVA SERRANA  MG   \n",
       "4            IGNORADO          NaN     SAO GOTARDO  MG   \n",
       "...               ...          ...             ...  ..   \n",
       "1048570    BRASILEIRA          NaN          SABARA  MG   \n",
       "1048571    BRASILEIRA          NaN      LEOPOLDINA  MG   \n",
       "1048572    BRASILEIRA          NaN  PATOS DE MINAS  MG   \n",
       "1048573    BRASILEIRA          NaN       CARATINGA  MG   \n",
       "1048574    BRASILEIRA          NaN  BELO HORIZONTE  MG   \n",
       "\n",
       "                   ESCOLARIDADE ESTUDANTE HABILITACAO VEICULOS DISP_VIAJAR  \\\n",
       "0              Médio Incompleto         N      Nenhum        N           N   \n",
       "1                Médio Completo         N      Nenhum        N           S   \n",
       "2                Médio Completo         N      Nenhum        N           S   \n",
       "3              Médio Incompleto         N      Nenhum        N           N   \n",
       "4          Fundamental Completo         N      Nenhum        N           N   \n",
       "...                         ...       ...         ...      ...         ...   \n",
       "1048570  Fundamental Incompleto         N      Nenhum        N           N   \n",
       "1048571          Médio Completo         N          AB        N           N   \n",
       "1048572        Não Identificado         N          AB        N           N   \n",
       "1048573        Médio Incompleto         N      Nenhum        N           S   \n",
       "1048574  Fundamental Incompleto         N      Nenhum        N           N   \n",
       "\n",
       "        DISP_DORMIR_EMP DISP_AUSENTAR_DOMIC  \n",
       "0                     N                   N  \n",
       "1                     S                   S  \n",
       "2                     S                   S  \n",
       "3                     N                   N  \n",
       "4                     N                   N  \n",
       "...                 ...                 ...  \n",
       "1048570               N                   N  \n",
       "1048571               N                   N  \n",
       "1048572               N                   N  \n",
       "1048573               S                   S  \n",
       "1048574               N                   N  \n",
       "\n",
       "[1042836 rows x 11 columns]"
      ]
     },
     "execution_count": 98,
     "metadata": {},
     "output_type": "execute_result"
    }
   ],
   "source": [
    "#Separação do dataframe por pessoas que não informaram se possuem alguma deficiência\n",
    "dfnaoinfodeficiente = df.loc[df.DEFICIENCIAS.isna()]\n",
    "dfnaoinfodeficiente"
   ]
  },
  {
   "cell_type": "code",
   "execution_count": 25,
   "metadata": {
    "scrolled": false
   },
   "outputs": [
    {
     "data": {
      "text/plain": [
       "ESCOLARIDADE\n",
       "Médio Completo            569180\n",
       "Médio Incompleto          105834\n",
       "Fundamental Completo      100116\n",
       "Não Identificado           95547\n",
       "Superior Completo          74262\n",
       "Superior Incompleto        46120\n",
       "Fundamental Incompleto     33439\n",
       "Nenhum                     11009\n",
       "Analfabeto                  4293\n",
       "Especialização              2362\n",
       "Mestrado                     595\n",
       "Doutorado                     79\n",
       "dtype: int64"
      ]
     },
     "execution_count": 25,
     "metadata": {},
     "output_type": "execute_result"
    }
   ],
   "source": [
    "dfnaoinfodeficiente.groupby(['ESCOLARIDADE']).size().sort_values(ascending=False)"
   ]
  },
  {
   "cell_type": "code",
   "execution_count": 82,
   "metadata": {
    "scrolled": true
   },
   "outputs": [
    {
     "data": {
      "text/plain": [
       "Text(0, 0.5, 'Escolaridade')"
      ]
     },
     "execution_count": 82,
     "metadata": {},
     "output_type": "execute_result"
    },
    {
     "data": {
      "image/png": "[encoded data removed]",
      "text/plain": [
       "<Figure size 432x288 with 1 Axes>"
      ]
     },
     "metadata": {
      "needs_background": "light"
     },
     "output_type": "display_data"
    }
   ],
   "source": [
    "dfnaoinfodeficiente[\"ESCOLARIDADE\"].value_counts(ascending=True).plot.barh(title=\"Total de trabalhadores sem informação sobre deficiência por escolaridade\", color=\"green\")\n",
    "plt.xlabel(\"Quantidade de trabalhadores\")\n",
    "plt.ylabel(\"Escolaridade\")"
   ]
  },
  {
   "cell_type": "code",
   "execution_count": 83,
   "metadata": {
    "scrolled": true
   },
   "outputs": [
    {
     "data": {
      "text/plain": [
       "ESTUDANTE\n",
       "N    951338\n",
       "S     91498\n",
       "dtype: int64"
      ]
     },
     "execution_count": 83,
     "metadata": {},
     "output_type": "execute_result"
    }
   ],
   "source": [
    "dfnaoinfodeficiente.groupby(['ESTUDANTE']).size().sort_values(ascending=False)"
   ]
  },
  {
   "cell_type": "code",
   "execution_count": 90,
   "metadata": {},
   "outputs": [
    {
     "data": {
      "text/plain": [
       "<AxesSubplot:title={'center':'Trabalhadores que estudam sem deficiência informada'}, ylabel='None'>"
      ]
     },
     "execution_count": 90,
     "metadata": {},
     "output_type": "execute_result"
    },
    {
     "data": {
      "image/png": "[encoded data removed]",
      "text/plain": [
       "<Figure size 432x288 with 1 Axes>"
      ]
     },
     "metadata": {},
     "output_type": "display_data"
    }
   ],
   "source": [
    "c  = [\"magenta\", \"green\"]\n",
    "dfnaoinfodeficiente.groupby(['ESTUDANTE']).size().plot.pie(title=\"Trabalhadores que estudam sem deficiência informada\", colors=c)"
   ]
  },
  {
   "cell_type": "code",
   "execution_count": 26,
   "metadata": {},
   "outputs": [
    {
     "data": {
      "text/plain": [
       "HABILITACAO\n",
       "Nenhum    800046\n",
       "B          97658\n",
       "AB         65765\n",
       "A          23965\n",
       "AD         21359\n",
       "D          17699\n",
       "AE          8216\n",
       "E           5360\n",
       "AC          1390\n",
       "C           1378\n",
       "dtype: int64"
      ]
     },
     "execution_count": 26,
     "metadata": {},
     "output_type": "execute_result"
    }
   ],
   "source": [
    "dfnaoinfodeficiente.groupby(['HABILITACAO']).size().sort_values(ascending=False)"
   ]
  },
  {
   "cell_type": "code",
   "execution_count": 106,
   "metadata": {
    "scrolled": true
   },
   "outputs": [
    {
     "data": {
      "text/plain": [
       "(array([800046.,  17699.,  97658.,  23965.,  65765.,  21359.,   8216.,\n",
       "          1390.,   5360.,   1378.]),\n",
       " array([0. , 0.9, 1.8, 2.7, 3.6, 4.5, 5.4, 6.3, 7.2, 8.1, 9. ]),\n",
       " <BarContainer object of 10 artists>)"
      ]
     },
     "execution_count": 106,
     "metadata": {},
     "output_type": "execute_result"
    },
    {
     "data": {
      "image/png": "[encoded data removed]",
      "text/plain": [
       "<Figure size 432x288 with 1 Axes>"
      ]
     },
     "metadata": {
      "needs_background": "light"
     },
     "output_type": "display_data"
    }
   ],
   "source": [
    "plt.hist(dfnaoinfodeficiente[\"HABILITACAO\"], color =\"magenta\")"
   ]
  },
  {
   "cell_type": "code",
   "execution_count": 27,
   "metadata": {
    "scrolled": true
   },
   "outputs": [
    {
     "data": {
      "text/plain": [
       "DISP_VIAJAR\n",
       "N    829231\n",
       "S    213605\n",
       "dtype: int64"
      ]
     },
     "execution_count": 27,
     "metadata": {},
     "output_type": "execute_result"
    }
   ],
   "source": [
    "dfnaoinfodeficiente.groupby(['DISP_VIAJAR']).size().sort_values(ascending=False)"
   ]
  },
  {
   "cell_type": "code",
   "execution_count": 78,
   "metadata": {},
   "outputs": [
    {
     "data": {
      "text/plain": [
       "<AxesSubplot:title={'center':'Disponibilidade para viajar dos trabalhadores sem deficiência informada'}, ylabel='None'>"
      ]
     },
     "execution_count": 78,
     "metadata": {},
     "output_type": "execute_result"
    },
    {
     "data": {
      "image/png": "[encoded data removed]",
      "text/plain": [
       "<Figure size 432x288 with 1 Axes>"
      ]
     },
     "metadata": {},
     "output_type": "display_data"
    }
   ],
   "source": [
    "c  = [\"magenta\", \"green\"]\n",
    "dfnaoinfodeficiente.groupby(['DISP_VIAJAR']).size().plot.pie(title=\"Disponibilidade para viajar dos trabalhadores sem deficiência informada\", colors=c)"
   ]
  },
  {
   "cell_type": "code",
   "execution_count": 28,
   "metadata": {},
   "outputs": [
    {
     "data": {
      "text/plain": [
       "DISP_DORMIR_EMP\n",
       "N    845741\n",
       "S    197095\n",
       "dtype: int64"
      ]
     },
     "execution_count": 28,
     "metadata": {},
     "output_type": "execute_result"
    }
   ],
   "source": [
    "dfnaoinfodeficiente.groupby(['DISP_DORMIR_EMP']).size().sort_values(ascending=False)"
   ]
  },
  {
   "cell_type": "code",
   "execution_count": 104,
   "metadata": {},
   "outputs": [
    {
     "data": {
      "text/plain": [
       "<AxesSubplot:title={'center':'Disponibilidade para dormir no emprego dos trabalhadores sem deficiência informada'}, ylabel='None'>"
      ]
     },
     "execution_count": 104,
     "metadata": {},
     "output_type": "execute_result"
    },
    {
     "data": {
      "image/png": "[encoded data removed]",
      "text/plain": [
       "<Figure size 432x288 with 1 Axes>"
      ]
     },
     "metadata": {},
     "output_type": "display_data"
    }
   ],
   "source": [
    "c  = [\"magenta\", \"green\"]\n",
    "dfnaoinfodeficiente.groupby(['DISP_DORMIR_EMP']).size().plot.pie(title=\"Disponibilidade para dormir no emprego dos trabalhadores sem deficiência informada\", colors=c)"
   ]
  },
  {
   "cell_type": "code",
   "execution_count": 99,
   "metadata": {
    "scrolled": true
   },
   "outputs": [
    {
     "data": {
      "text/html": [
       "<div>\n",
       "<style scoped>\n",
       "    .dataframe tbody tr th:only-of-type {\n",
       "        vertical-align: middle;\n",
       "    }\n",
       "\n",
       "    .dataframe tbody tr th {\n",
       "        vertical-align: top;\n",
       "    }\n",
       "\n",
       "    .dataframe thead th {\n",
       "        text-align: right;\n",
       "    }\n",
       "</style>\n",
       "<table border=\"1\" class=\"dataframe\">\n",
       "  <thead>\n",
       "    <tr style=\"text-align: right;\">\n",
       "      <th></th>\n",
       "      <th>NACIONALIDADE</th>\n",
       "      <th>DEFICIENCIAS</th>\n",
       "      <th>NOME_MUNICIPIO</th>\n",
       "      <th>UF</th>\n",
       "      <th>ESCOLARIDADE</th>\n",
       "      <th>ESTUDANTE</th>\n",
       "      <th>HABILITACAO</th>\n",
       "      <th>VEICULOS</th>\n",
       "      <th>DISP_VIAJAR</th>\n",
       "      <th>DISP_DORMIR_EMP</th>\n",
       "      <th>DISP_AUSENTAR_DOMIC</th>\n",
       "    </tr>\n",
       "  </thead>\n",
       "  <tbody>\n",
       "    <tr>\n",
       "      <th>546</th>\n",
       "      <td>BRASILEIRA</td>\n",
       "      <td>Mental/Intelectual</td>\n",
       "      <td>OURO PRETO</td>\n",
       "      <td>MG</td>\n",
       "      <td>Médio Incompleto</td>\n",
       "      <td>N</td>\n",
       "      <td>Nenhum</td>\n",
       "      <td>N</td>\n",
       "      <td>S</td>\n",
       "      <td>S</td>\n",
       "      <td>S</td>\n",
       "    </tr>\n",
       "    <tr>\n",
       "      <th>618</th>\n",
       "      <td>BRASILEIRA</td>\n",
       "      <td>Membros Inferiores|Membros Superiores</td>\n",
       "      <td>PATOS DE MINAS</td>\n",
       "      <td>MG</td>\n",
       "      <td>Médio Completo</td>\n",
       "      <td>N</td>\n",
       "      <td>Nenhum</td>\n",
       "      <td>N</td>\n",
       "      <td>N</td>\n",
       "      <td>N</td>\n",
       "      <td>N</td>\n",
       "    </tr>\n",
       "    <tr>\n",
       "      <th>743</th>\n",
       "      <td>BRASILEIRA</td>\n",
       "      <td>Um membro Inferior|Um membro superior</td>\n",
       "      <td>BELO HORIZONTE</td>\n",
       "      <td>MG</td>\n",
       "      <td>Médio Incompleto</td>\n",
       "      <td>S</td>\n",
       "      <td>Nenhum</td>\n",
       "      <td>N</td>\n",
       "      <td>N</td>\n",
       "      <td>N</td>\n",
       "      <td>N</td>\n",
       "    </tr>\n",
       "    <tr>\n",
       "      <th>761</th>\n",
       "      <td>BRASILEIRA</td>\n",
       "      <td>Mental/Intelectual</td>\n",
       "      <td>BELO HORIZONTE</td>\n",
       "      <td>MG</td>\n",
       "      <td>Fundamental Incompleto</td>\n",
       "      <td>N</td>\n",
       "      <td>Nenhum</td>\n",
       "      <td>N</td>\n",
       "      <td>N</td>\n",
       "      <td>N</td>\n",
       "      <td>N</td>\n",
       "    </tr>\n",
       "    <tr>\n",
       "      <th>881</th>\n",
       "      <td>BRASILEIRA</td>\n",
       "      <td>Baixa Visão</td>\n",
       "      <td>BELO HORIZONTE</td>\n",
       "      <td>MG</td>\n",
       "      <td>Especialização</td>\n",
       "      <td>S</td>\n",
       "      <td>Nenhum</td>\n",
       "      <td>N</td>\n",
       "      <td>S</td>\n",
       "      <td>S</td>\n",
       "      <td>S</td>\n",
       "    </tr>\n",
       "    <tr>\n",
       "      <th>...</th>\n",
       "      <td>...</td>\n",
       "      <td>...</td>\n",
       "      <td>...</td>\n",
       "      <td>...</td>\n",
       "      <td>...</td>\n",
       "      <td>...</td>\n",
       "      <td>...</td>\n",
       "      <td>...</td>\n",
       "      <td>...</td>\n",
       "      <td>...</td>\n",
       "      <td>...</td>\n",
       "    </tr>\n",
       "    <tr>\n",
       "      <th>1048117</th>\n",
       "      <td>BRASILEIRA</td>\n",
       "      <td>Membros Inferiores</td>\n",
       "      <td>BELO HORIZONTE</td>\n",
       "      <td>MG</td>\n",
       "      <td>Superior Incompleto</td>\n",
       "      <td>N</td>\n",
       "      <td>B</td>\n",
       "      <td>S</td>\n",
       "      <td>S</td>\n",
       "      <td>S</td>\n",
       "      <td>S</td>\n",
       "    </tr>\n",
       "    <tr>\n",
       "      <th>1048175</th>\n",
       "      <td>BRASILEIRA</td>\n",
       "      <td>Um membro superior|Parcial</td>\n",
       "      <td>BELO HORIZONTE</td>\n",
       "      <td>MG</td>\n",
       "      <td>Médio Completo</td>\n",
       "      <td>N</td>\n",
       "      <td>B</td>\n",
       "      <td>N</td>\n",
       "      <td>N</td>\n",
       "      <td>N</td>\n",
       "      <td>N</td>\n",
       "    </tr>\n",
       "    <tr>\n",
       "      <th>1048335</th>\n",
       "      <td>BRASILEIRA</td>\n",
       "      <td>Um membro Inferior</td>\n",
       "      <td>BELO HORIZONTE</td>\n",
       "      <td>MG</td>\n",
       "      <td>Médio Completo</td>\n",
       "      <td>N</td>\n",
       "      <td>Nenhum</td>\n",
       "      <td>N</td>\n",
       "      <td>N</td>\n",
       "      <td>N</td>\n",
       "      <td>N</td>\n",
       "    </tr>\n",
       "    <tr>\n",
       "      <th>1048402</th>\n",
       "      <td>BRASILEIRA</td>\n",
       "      <td>Surdez bilateral parcial|Baixa Visão</td>\n",
       "      <td>OURO BRANCO</td>\n",
       "      <td>MG</td>\n",
       "      <td>Fundamental Incompleto</td>\n",
       "      <td>S</td>\n",
       "      <td>Nenhum</td>\n",
       "      <td>N</td>\n",
       "      <td>S</td>\n",
       "      <td>S</td>\n",
       "      <td>S</td>\n",
       "    </tr>\n",
       "    <tr>\n",
       "      <th>1048417</th>\n",
       "      <td>BRASILEIRA</td>\n",
       "      <td>Mental/Intelectual</td>\n",
       "      <td>UBERLANDIA</td>\n",
       "      <td>MG</td>\n",
       "      <td>Médio Incompleto</td>\n",
       "      <td>S</td>\n",
       "      <td>Nenhum</td>\n",
       "      <td>N</td>\n",
       "      <td>N</td>\n",
       "      <td>N</td>\n",
       "      <td>N</td>\n",
       "    </tr>\n",
       "  </tbody>\n",
       "</table>\n",
       "<p>5739 rows × 11 columns</p>\n",
       "</div>"
      ],
      "text/plain": [
       "        NACIONALIDADE                           DEFICIENCIAS  NOME_MUNICIPIO  \\\n",
       "546        BRASILEIRA                     Mental/Intelectual      OURO PRETO   \n",
       "618        BRASILEIRA  Membros Inferiores|Membros Superiores  PATOS DE MINAS   \n",
       "743        BRASILEIRA  Um membro Inferior|Um membro superior  BELO HORIZONTE   \n",
       "761        BRASILEIRA                     Mental/Intelectual  BELO HORIZONTE   \n",
       "881        BRASILEIRA                            Baixa Visão  BELO HORIZONTE   \n",
       "...               ...                                    ...             ...   \n",
       "1048117    BRASILEIRA                     Membros Inferiores  BELO HORIZONTE   \n",
       "1048175    BRASILEIRA             Um membro superior|Parcial  BELO HORIZONTE   \n",
       "1048335    BRASILEIRA                     Um membro Inferior  BELO HORIZONTE   \n",
       "1048402    BRASILEIRA   Surdez bilateral parcial|Baixa Visão     OURO BRANCO   \n",
       "1048417    BRASILEIRA                     Mental/Intelectual      UBERLANDIA   \n",
       "\n",
       "         UF            ESCOLARIDADE ESTUDANTE HABILITACAO VEICULOS  \\\n",
       "546      MG        Médio Incompleto         N      Nenhum        N   \n",
       "618      MG          Médio Completo         N      Nenhum        N   \n",
       "743      MG        Médio Incompleto         S      Nenhum        N   \n",
       "761      MG  Fundamental Incompleto         N      Nenhum        N   \n",
       "881      MG          Especialização         S      Nenhum        N   \n",
       "...      ..                     ...       ...         ...      ...   \n",
       "1048117  MG     Superior Incompleto         N           B        S   \n",
       "1048175  MG          Médio Completo         N           B        N   \n",
       "1048335  MG          Médio Completo         N      Nenhum        N   \n",
       "1048402  MG  Fundamental Incompleto         S      Nenhum        N   \n",
       "1048417  MG        Médio Incompleto         S      Nenhum        N   \n",
       "\n",
       "        DISP_VIAJAR DISP_DORMIR_EMP DISP_AUSENTAR_DOMIC  \n",
       "546               S               S                   S  \n",
       "618               N               N                   N  \n",
       "743               N               N                   N  \n",
       "761               N               N                   N  \n",
       "881               S               S                   S  \n",
       "...             ...             ...                 ...  \n",
       "1048117           S               S                   S  \n",
       "1048175           N               N                   N  \n",
       "1048335           N               N                   N  \n",
       "1048402           S               S                   S  \n",
       "1048417           N               N                   N  \n",
       "\n",
       "[5739 rows x 11 columns]"
      ]
     },
     "execution_count": 99,
     "metadata": {},
     "output_type": "execute_result"
    }
   ],
   "source": [
    "#Separação do dataframe por pessoas que informaram que possuem deficiência\n",
    "dfdeficiente = df.loc[~df.DEFICIENCIAS.isna()]\n",
    "dfdeficiente"
   ]
  },
  {
   "cell_type": "code",
   "execution_count": 17,
   "metadata": {},
   "outputs": [
    {
     "data": {
      "text/plain": [
       "ESCOLARIDADE\n",
       "Médio Completo            3009\n",
       "Médio Incompleto           608\n",
       "Fundamental Completo       478\n",
       "Superior Incompleto        407\n",
       "Fundamental Incompleto     407\n",
       "Superior Completo          388\n",
       "Não Identificado           238\n",
       "Nenhum                     155\n",
       "Especialização              25\n",
       "Analfabeto                  23\n",
       "Mestrado                     1\n",
       "dtype: int64"
      ]
     },
     "execution_count": 17,
     "metadata": {},
     "output_type": "execute_result"
    }
   ],
   "source": [
    "dfdeficiente.groupby(['ESCOLARIDADE']).size().sort_values(ascending=False)"
   ]
  },
  {
   "cell_type": "code",
   "execution_count": 55,
   "metadata": {
    "scrolled": true
   },
   "outputs": [
    {
     "data": {
      "text/plain": [
       "Text(0, 0.5, 'Escolaridade')"
      ]
     },
     "execution_count": 55,
     "metadata": {},
     "output_type": "execute_result"
    },
    {
     "data": {
      "image/png": "[encoded data removed]",
      "text/plain": [
       "<Figure size 432x288 with 1 Axes>"
      ]
     },
     "metadata": {
      "needs_background": "light"
     },
     "output_type": "display_data"
    }
   ],
   "source": [
    "dfdeficiente[\"ESCOLARIDADE\"].value_counts(ascending=True).plot.barh(title=\"Total de trabalhadores PCD por escolaridade\", color=\"green\")\n",
    "plt.xlabel(\"Quantidade de trabalhadores\")\n",
    "plt.ylabel(\"Escolaridade\")"
   ]
  },
  {
   "cell_type": "code",
   "execution_count": 18,
   "metadata": {},
   "outputs": [
    {
     "data": {
      "text/plain": [
       "HABILITACAO\n",
       "Nenhum    4333\n",
       "B          767\n",
       "AB         338\n",
       "A          137\n",
       "D           62\n",
       "AD          61\n",
       "AE          19\n",
       "E           11\n",
       "C            8\n",
       "AC           3\n",
       "dtype: int64"
      ]
     },
     "execution_count": 18,
     "metadata": {},
     "output_type": "execute_result"
    }
   ],
   "source": [
    "dfdeficiente.groupby(['HABILITACAO']).size().sort_values(ascending=False)"
   ]
  },
  {
   "cell_type": "code",
   "execution_count": 86,
   "metadata": {},
   "outputs": [
    {
     "data": {
      "text/plain": [
       "(array([4.333e+03, 7.670e+02, 6.100e+01, 3.380e+02, 1.370e+02, 6.200e+01,\n",
       "        3.000e+00, 1.900e+01, 1.100e+01, 8.000e+00]),\n",
       " array([0. , 0.9, 1.8, 2.7, 3.6, 4.5, 5.4, 6.3, 7.2, 8.1, 9. ]),\n",
       " <BarContainer object of 10 artists>)"
      ]
     },
     "execution_count": 86,
     "metadata": {},
     "output_type": "execute_result"
    },
    {
     "data": {
      "image/png": "[encoded data removed]",
      "text/plain": [
       "<Figure size 432x288 with 1 Axes>"
      ]
     },
     "metadata": {
      "needs_background": "light"
     },
     "output_type": "display_data"
    }
   ],
   "source": [
    "plt.hist(dfdeficiente[\"HABILITACAO\"], color =\"magenta\")"
   ]
  },
  {
   "cell_type": "code",
   "execution_count": 19,
   "metadata": {},
   "outputs": [
    {
     "data": {
      "text/plain": [
       "DISP_VIAJAR\n",
       "N    3364\n",
       "S    2375\n",
       "dtype: int64"
      ]
     },
     "execution_count": 19,
     "metadata": {},
     "output_type": "execute_result"
    }
   ],
   "source": [
    "dfdeficiente.groupby(['DISP_VIAJAR']).size().sort_values(ascending=False)"
   ]
  },
  {
   "cell_type": "code",
   "execution_count": 89,
   "metadata": {},
   "outputs": [
    {
     "data": {
      "text/plain": [
       "<AxesSubplot:title={'center':'Disponibilidade para viajar dos trabalhadores com deficiência'}, ylabel='None'>"
      ]
     },
     "execution_count": 89,
     "metadata": {},
     "output_type": "execute_result"
    },
    {
     "data": {
      "image/png": "[encoded data removed]",
      "text/plain": [
       "<Figure size 432x288 with 1 Axes>"
      ]
     },
     "metadata": {},
     "output_type": "display_data"
    }
   ],
   "source": [
    "c = [\"magenta\", \"green\"]\n",
    "dfdeficiente.groupby(['DISP_VIAJAR']).size().plot.pie(title=\"Disponibilidade para viajar dos trabalhadores com deficiência\", colors=c)"
   ]
  },
  {
   "cell_type": "code",
   "execution_count": 20,
   "metadata": {},
   "outputs": [
    {
     "data": {
      "text/plain": [
       "DISP_DORMIR_EMP\n",
       "N    3472\n",
       "S    2267\n",
       "dtype: int64"
      ]
     },
     "execution_count": 20,
     "metadata": {},
     "output_type": "execute_result"
    }
   ],
   "source": [
    "dfdeficiente.groupby(['DISP_DORMIR_EMP']).size().sort_values(ascending=False)"
   ]
  },
  {
   "cell_type": "code",
   "execution_count": 105,
   "metadata": {},
   "outputs": [
    {
     "data": {
      "text/plain": [
       "<AxesSubplot:title={'center':'Disponibilidade para dormir no emprego dos trabalhadores com deficiência'}, ylabel='None'>"
      ]
     },
     "execution_count": 105,
     "metadata": {},
     "output_type": "execute_result"
    },
    {
     "data": {
      "image/png": "[encoded data removed]",
      "text/plain": [
       "<Figure size 432x288 with 1 Axes>"
      ]
     },
     "metadata": {},
     "output_type": "display_data"
    }
   ],
   "source": [
    "c  = [\"magenta\", \"green\"]\n",
    "dfdeficiente.groupby(['DISP_DORMIR_EMP']).size().plot.pie(title=\"Disponibilidade para dormir no emprego dos trabalhadores com deficiência\", colors=c)"
   ]
  },
  {
   "cell_type": "code",
   "execution_count": 91,
   "metadata": {},
   "outputs": [
    {
     "data": {
      "text/plain": [
       "ESTUDANTE\n",
       "N    4947\n",
       "S     792\n",
       "dtype: int64"
      ]
     },
     "execution_count": 91,
     "metadata": {},
     "output_type": "execute_result"
    }
   ],
   "source": [
    "dfdeficiente.groupby(['ESTUDANTE']).size().sort_values(ascending=False)"
   ]
  },
  {
   "cell_type": "code",
   "execution_count": 92,
   "metadata": {
    "scrolled": true
   },
   "outputs": [
    {
     "data": {
      "text/plain": [
       "<AxesSubplot:title={'center':'Trabalhadores com deficiência que estudam'}, ylabel='None'>"
      ]
     },
     "execution_count": 92,
     "metadata": {},
     "output_type": "execute_result"
    },
    {
     "data": {
      "image/png": "[encoded data removed]",
      "text/plain": [
       "<Figure size 432x288 with 1 Axes>"
      ]
     },
     "metadata": {},
     "output_type": "display_data"
    }
   ],
   "source": [
    "c  = [\"magenta\", \"green\"]\n",
    "dfdeficiente.groupby(['ESTUDANTE']).size().plot.pie(title=\"Trabalhadores com deficiência que estudam\", colors=c)"
   ]
  },
  {
   "cell_type": "raw",
   "metadata": {},
   "source": [
    "Entre os dois grupos de trabalhadores separados pelos dataframes dfnaoinfodeficiente e dfdeficiente, proporcionalmente falando, não existem muitas diferenças com  relação às competências, porém as pessoas que assumiram suas deficiências se mostraram mais disponíveis para viajar e para dormir no emprego."
   ]
  }
 ],
 "metadata": {
  "kernelspec": {
   "display_name": "Python 3",
   "language": "python",
   "name": "python3"
  },
  "language_info": {
   "codemirror_mode": {
    "name": "ipython",
    "version": 3
   },
   "file_extension": ".py",
   "mimetype": "text/x-python",
   "name": "python",
   "nbconvert_exporter": "python",
   "pygments_lexer": "ipython3",
   "version": "3.8.5"
  }
 },
 "nbformat": 4,
 "nbformat_minor": 4
}
